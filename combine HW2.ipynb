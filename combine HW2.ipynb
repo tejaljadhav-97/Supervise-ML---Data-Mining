{
 "cells": [
  {
   "cell_type": "code",
   "execution_count": 1,
   "id": "7b9ddd55",
   "metadata": {},
   "outputs": [],
   "source": [
    "#Importing required libraries    \n",
    "import numpy as np\n",
    "import pandas as pd\n",
    "import matplotlib.pyplot as plt  # To visualize\n",
    "from pandas_profiling import ProfileReport\n",
    "from sklearn.model_selection import KFold \n",
    "from sklearn.metrics import accuracy_score\n",
    "from sklearn.model_selection import cross_val_score\n",
    "from sklearn.linear_model import LogisticRegression\n",
    "from sklearn.svm import SVC\n",
    "from sklearn.ensemble import RandomForestClassifier\n",
    "from sklearn.tree import DecisionTreeClassifier\n",
    "from sklearn.naive_bayes import GaussianNB\n",
    "from mlxtend.classifier import OneRClassifier\n",
    "from sklearn.dummy import DummyClassifier\n",
    "from sklearn.metrics import accuracy_score\n",
    "from sklearn.metrics import roc_curve\n",
    "from sklearn.metrics import roc_auc_score\n",
    "from matplotlib import pyplot\n",
    "from sklearn import metrics\n",
    "from sklearn.model_selection import train_test_split\n",
    "from sklearn.metrics import plot_roc_curve\n",
    "%matplotlib inline"
   ]
  },
  {
   "cell_type": "code",
   "execution_count": 2,
   "id": "2f0c7798",
   "metadata": {
    "scrolled": false
   },
   "outputs": [
    {
     "data": {
      "application/vnd.jupyter.widget-view+json": {
       "model_id": "3374b658d619457da311fe3bb50ae8f6",
       "version_major": 2,
       "version_minor": 0
      },
      "text/plain": [
       "Summarize dataset:   0%|          | 0/5 [00:00<?, ?it/s]"
      ]
     },
     "metadata": {},
     "output_type": "display_data"
    },
    {
     "data": {
      "application/vnd.jupyter.widget-view+json": {
       "model_id": "0b784f9ead76442b999f402e1c942ffa",
       "version_major": 2,
       "version_minor": 0
      },
      "text/plain": [
       "Generate report structure:   0%|          | 0/1 [00:00<?, ?it/s]"
      ]
     },
     "metadata": {},
     "output_type": "display_data"
    },
    {
     "data": {
      "application/vnd.jupyter.widget-view+json": {
       "model_id": "0cf95a793ff844a99066efedc97084df",
       "version_major": 2,
       "version_minor": 0
      },
      "text/plain": [
       "Render HTML:   0%|          | 0/1 [00:00<?, ?it/s]"
      ]
     },
     "metadata": {},
     "output_type": "display_data"
    },
    {
     "data": {
      "application/vnd.jupyter.widget-view+json": {
       "model_id": "b72fd96d746d496a9a75f5d9847f4bc1",
       "version_major": 2,
       "version_minor": 0
      },
      "text/plain": [
       "Export report to file:   0%|          | 0/1 [00:00<?, ?it/s]"
      ]
     },
     "metadata": {},
     "output_type": "display_data"
    }
   ],
   "source": [
    "# Python Tasks\n",
    "# Question 1\n",
    "\n",
    "#pip install https://github.com/pandas-profiling/pandas-profiling/archive/master.zip  #profiling tool installation\n",
    "\n",
    "a1=pd.read_csv('red_wine.csv')\n",
    "profile1 = ProfileReport(a1, title=\"Pandas Profiling Report\", explorative=True)\n",
    "profile1.to_file(\"HW2_python.html\")\n",
    "\n",
    "\n",
    "# Question 1"
   ]
  },
  {
   "cell_type": "code",
   "execution_count": 3,
   "id": "38b18a3d",
   "metadata": {},
   "outputs": [
    {
     "name": "stdout",
     "output_type": "stream",
     "text": [
      "Question 2 \n",
      " \n"
     ]
    },
    {
     "data": {
      "text/html": [
       "<style  type=\"text/css\" >\n",
       "#T_dae8f_row0_col0,#T_dae8f_row1_col0{\n",
       "            font-weight:  bold;\n",
       "        }</style><table id=\"T_dae8f_\" ><thead>    <tr>        <th class=\"col_heading level0 col0\" >Model</th>        <th class=\"col_heading level0 col1\" >ZeroR</th>        <th class=\"col_heading level0 col2\" >OneR</th>        <th class=\"col_heading level0 col3\" >LR</th>        <th class=\"col_heading level0 col4\" >NB</th>        <th class=\"col_heading level0 col5\" >DT</th>        <th class=\"col_heading level0 col6\" >SVM</th>        <th class=\"col_heading level0 col7\" >RF</th>    </tr></thead><tbody>\n",
       "                <tr>\n",
       "                                <td id=\"T_dae8f_row0_col0\" class=\"data row0 col0\" >AUC</td>\n",
       "                        <td id=\"T_dae8f_row0_col1\" class=\"data row0 col1\" >N/A</td>\n",
       "                        <td id=\"T_dae8f_row0_col2\" class=\"data row0 col2\" >N/A</td>\n",
       "                        <td id=\"T_dae8f_row0_col3\" class=\"data row0 col3\" >0.871898</td>\n",
       "                        <td id=\"T_dae8f_row0_col4\" class=\"data row0 col4\" >0.897185</td>\n",
       "                        <td id=\"T_dae8f_row0_col5\" class=\"data row0 col5\" >0.787433</td>\n",
       "                        <td id=\"T_dae8f_row0_col6\" class=\"data row0 col6\" >0.856939</td>\n",
       "                        <td id=\"T_dae8f_row0_col7\" class=\"data row0 col7\" >0.926452</td>\n",
       "            </tr>\n",
       "            <tr>\n",
       "                                <td id=\"T_dae8f_row1_col0\" class=\"data row1 col0\" >Accuracy(%)</td>\n",
       "                        <td id=\"T_dae8f_row1_col1\" class=\"data row1 col1\" >51.640271</td>\n",
       "                        <td id=\"T_dae8f_row1_col2\" class=\"data row1 col2\" >77.006033</td>\n",
       "                        <td id=\"T_dae8f_row1_col3\" class=\"data row1 col3\" >77.590498</td>\n",
       "                        <td id=\"T_dae8f_row1_col4\" class=\"data row1 col4\" >83.242836</td>\n",
       "                        <td id=\"T_dae8f_row1_col5\" class=\"data row1 col5\" >80.361991</td>\n",
       "                        <td id=\"T_dae8f_row1_col6\" class=\"data row1 col6\" >54.532428</td>\n",
       "                        <td id=\"T_dae8f_row1_col7\" class=\"data row1 col7\" >83.269231</td>\n",
       "            </tr>\n",
       "    </tbody></table>"
      ],
      "text/plain": [
       "<pandas.io.formats.style.Styler at 0x1d2abe529d0>"
      ]
     },
     "execution_count": 3,
     "metadata": {},
     "output_type": "execute_result"
    }
   ],
   "source": [
    "# Question 2\n",
    "\n",
    "#Loading the dataset\n",
    "df = pd.read_csv('red_wine.csv')\n",
    "mapping = {'high': 1, 'low': 0}\n",
    "df=df.replace({'type': mapping})\n",
    "\n",
    "X = df.iloc[:,:-1] # values converts it into a numpy array\n",
    "y = df.iloc[:,-1]\n",
    "X1 = df.iloc[:,:-1].values # values converts it into a numpy array\n",
    "y1 = df.iloc[:,-1].values\n",
    " \n",
    "#Implementing cross validation\n",
    "kf = KFold(n_splits=10, random_state=None)\n",
    "acc_score = []\n",
    "\n",
    "\n",
    "def classification (model):\n",
    "    acc_score = []\n",
    "    for train_index , test_index in kf.split(X):\n",
    "        X_train , X_test = X.iloc[train_index,:],X.iloc[test_index,:]\n",
    "        y_train , y_test = y[train_index] , y[test_index]\n",
    "       \n",
    "        model.fit(X_train,y_train)# perform linear regression\n",
    "        pred_values = model.predict(X_test) # make predictions\n",
    "        kmean=cross_val_score(model,X_train,y_train,cv=kf).mean()#for Accuracy(%)\n",
    "        kmean=kmean*100\n",
    "        \n",
    "        auc = cross_val_score(model, X_train,y_train, scoring='roc_auc', cv=kf).mean() # for AUC\n",
    "        \n",
    "        return auc,kmean\n",
    "    \n",
    "    \n",
    "    \n",
    "def Zero_oneR (model):\n",
    "    acc_score = []\n",
    "    for train_index1 , test_index1 in kf.split(X1):\n",
    "        X_train1 , X_test1 = X1[train_index1,:],X1[test_index1,:]\n",
    "        y_train1 , y_test1 = y1[train_index1] , y1[test_index1]\n",
    "        \n",
    "        fold_acc1=cross_val_score(model,X_train1,y_train1,cv=kf)\n",
    "        \n",
    "        kmean1=fold_acc1.mean()\n",
    "        kmean1=kmean1*100\n",
    "        return kmean1\n",
    "    \n",
    "    \n",
    "auc1,model1= classification(LogisticRegression())\n",
    "auc2,model2= classification(GaussianNB()) \n",
    "auc3,model3= classification(DecisionTreeClassifier()) \n",
    "auc4,model4= classification(SVC())\n",
    "auc5,model5= classification(RandomForestClassifier()) \n",
    "model6= Zero_oneR(OneRClassifier())\n",
    "model7= Zero_oneR(DummyClassifier(strategy=\"most_frequent\"))\n",
    "\n",
    "\n",
    "#Store the result in Dataframe\n",
    "\n",
    "df1 = pd.DataFrame({'Model':['AUC','Accuracy(%)'],'ZeroR':['N/A',model7],'OneR':['N/A',model6],'LR':[auc1,model1],\n",
    "                   'NB':[auc2,model2],'DT':[auc3,model3],'SVM':[auc4,model4],'RF':[auc5,model5]})\n",
    "df1=df1.style.set_properties(subset=['Model'],**{'font-weight': 'bold'}).hide_index()\n",
    "print('Question 2 ')\n",
    "print(' ')    \n",
    "df1"
   ]
  },
  {
   "cell_type": "code",
   "execution_count": 4,
   "id": "fcdb4924",
   "metadata": {},
   "outputs": [
    {
     "name": "stdout",
     "output_type": "stream",
     "text": [
      "Question 3 \n",
      " \n",
      "ROC curve for Random Forest classifier with K fold\n"
     ]
    },
    {
     "data": {
      "image/png": "[encoded data removed]",
      "text/plain": [
       "<Figure size 432x288 with 1 Axes>"
      ]
     },
     "metadata": {
      "needs_background": "light"
     },
     "output_type": "display_data"
    },
    {
     "name": "stdout",
     "output_type": "stream",
     "text": [
      "ROC curve for Random Forest classifier without K fold\n"
     ]
    },
    {
     "data": {
      "image/png": "[encoded data removed]",
      "text/plain": [
       "<Figure size 432x288 with 1 Axes>"
      ]
     },
     "metadata": {
      "needs_background": "light"
     },
     "output_type": "display_data"
    }
   ],
   "source": [
    "#Question 3 \n",
    "\n",
    "# ROC curve for Random Forest classifier with K fold\n",
    "\n",
    "df = pd.read_csv('red_wine.csv')\n",
    "mapping = {'high': 1, 'low': 0}\n",
    "df=df.replace({'type': mapping})\n",
    "X = df.iloc[:,:-1] # values converts it into a numpy array\n",
    "y = df.iloc[:,-1]\n",
    "\n",
    "kf = KFold(n_splits=10, random_state=None)#Implementing cross validation\n",
    "acc_score = []\n",
    "\n",
    "for train_index , test_index in kf.split(X):\n",
    "    X_train , X_test = X.iloc[train_index,:],X.iloc[test_index,:]\n",
    "    y_train , y_test = y[train_index] , y[test_index]\n",
    "    model= RandomForestClassifier()\n",
    "    model.fit(X_train,y_train)# perform linear regression\n",
    "    pred_values = model.predict(X_test) # make predictions\n",
    "    \n",
    "    kmean=cross_val_score(model,X_train,y_train,cv=kf).mean()\n",
    "    kmean=kmean*100\n",
    "    auc = cross_val_score(model, X_train,y_train, scoring='roc_auc', cv=10)       \n",
    "#print('Random Forest classifier: Accuracy wit K fold - {0:.4f} '.format(kmean),'%')\n",
    "\n",
    "# Graph Plot\n",
    "print('Question 3 ')\n",
    "print(' ')    \n",
    "print('ROC curve for Random Forest classifier with K fold')\n",
    "ax = plt.gca()\n",
    "rfc_disp = plot_roc_curve(model, X_test, y_test, ax=ax, alpha=0.8)\n",
    "plt.show()\n",
    "\n",
    "#---------------------------------------------------------------------------------------------------\n",
    "\n",
    "# ROC curve for Random Forest classifier without K fold\n",
    "\n",
    "\n",
    "# Split dataset into training set and test set\n",
    "X_train, X_test, y_train, y_test = train_test_split(X, y, test_size=0.3)\n",
    "\n",
    "rlf=RandomForestClassifier(n_estimators=100)\n",
    "rlf.fit(X_train,y_train)\n",
    "y_pred=rlf.predict(X_test)\n",
    "accuracy=metrics.accuracy_score(y_test, y_pred)\n",
    "#print(\"Accuracy without K fold:\",accuracy)\n",
    "\n",
    "#plot\n",
    "print('ROC curve for Random Forest classifier without K fold')\n",
    "rlf_disp = plot_roc_curve(rlf, X_test, y_test)\n",
    "plt.show()\n"
   ]
  },
  {
   "cell_type": "code",
   "execution_count": 5,
   "id": "265e5b42",
   "metadata": {},
   "outputs": [
    {
     "name": "stdout",
     "output_type": "stream",
     "text": [
      "Question 4 \n",
      " \n",
      "Random Forest classifier : Accuracy - 87.6786  %\n",
      "                         : AUC      - 0.9583 \n"
     ]
    }
   ],
   "source": [
    "#Question 4\n",
    "\n",
    "#Loading the dataset\n",
    "df = pd.read_csv('white_wine.csv')\n",
    "mapping = {'high': 1, 'low': 0}\n",
    "df=df.replace({'type': mapping})\n",
    "\n",
    "X = df.iloc[:,:-1] # values converts it into a numpy array\n",
    "y = df.iloc[:,-1]\n",
    "\n",
    "#Implementing cross validation\n",
    "kf = KFold(n_splits=10, random_state=None)\n",
    "acc_score = []\n",
    "\n",
    "for train_index , test_index in kf.split(X):\n",
    "    X_train , X_test = X.iloc[train_index,:],X.iloc[test_index,:]\n",
    "    y_train , y_test = y[train_index] , y[test_index]\n",
    "    model= RandomForestClassifier()\n",
    "    model.fit(X_train,y_train)# perform linear regression\n",
    "    pred_values = model.predict(X_test) # make predictions\n",
    "    \n",
    "    kmean=cross_val_score(model,X_train,y_train,cv=kf).mean()\n",
    "    kmean=kmean*100\n",
    "    auc = cross_val_score(model, X_train,y_train, scoring='roc_auc', cv=10).mean() \n",
    "    \n",
    "print('Question 4 ')\n",
    "print(' ')    \n",
    "print('Random Forest classifier : Accuracy - {0:.4f} '.format(kmean),'%')\n",
    "print('                         : AUC      - {0:.4f} '.format(auc))\n"
   ]
  },
  {
   "cell_type": "code",
   "execution_count": null,
   "id": "1ec69cd6",
   "metadata": {},
   "outputs": [],
   "source": []
  },
  {
   "cell_type": "code",
   "execution_count": null,
   "id": "8cca4328",
   "metadata": {},
   "outputs": [],
   "source": []
  },
  {
   "cell_type": "code",
   "execution_count": null,
   "id": "86aa5b23",
   "metadata": {},
   "outputs": [],
   "source": []
  },
  {
   "cell_type": "code",
   "execution_count": null,
   "id": "907ed711",
   "metadata": {},
   "outputs": [],
   "source": []
  }
 ],
 "metadata": {
  "kernelspec": {
   "display_name": "Python 3",
   "language": "python",
   "name": "python3"
  },
  "language_info": {
   "codemirror_mode": {
    "name": "ipython",
    "version": 3
   },
   "file_extension": ".py",
   "mimetype": "text/x-python",
   "name": "python",
   "nbconvert_exporter": "python",
   "pygments_lexer": "ipython3",
   "version": "3.8.8"
  }
 },
 "nbformat": 4,
 "nbformat_minor": 5
}
